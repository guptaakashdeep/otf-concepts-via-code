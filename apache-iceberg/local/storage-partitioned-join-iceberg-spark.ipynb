{
 "cells": [
  {
   "cell_type": "markdown",
   "metadata": {},
   "source": [
    "## [Storage Partitioned Join, a.k.a Shuffle-less join in Apache Spark](https://www.guptaakashdeep.com/storage-partition-join-in-apache-spark-why-how-and-where/)"
   ]
  },
  {
   "cell_type": "code",
   "execution_count": null,
   "metadata": {},
   "outputs": [],
   "source": [
    "import findspark\n",
    "findspark.init()\n",
    "findspark.find()"
   ]
  },
  {
   "cell_type": "code",
   "execution_count": null,
   "metadata": {},
   "outputs": [],
   "source": [
    "from pyspark.sql import SparkSession, Row\n",
    "\n",
    "# update here the required versions\n",
    "SPARK_VERSION = \"3.5\"\n",
    "ICEBERG_VERSION = \"1.5.0\"\n",
    "CATALOG_NAME = \"local\"\n",
    "# update this to your local path where you want tables to be created\n",
    "DW_PATH = \"/path/to/local/warehouse\"\n",
    "\n",
    "spark = SparkSession.builder \\\n",
    "    .master(\"local[4]\") \\\n",
    "    .appName(\"spj-iceberg\") \\\n",
    "    .config(\"spark.sql.adaptive.enabled\", \"true\")\\\n",
    "    .config('spark.jars.packages', f'org.apache.iceberg:iceberg-spark-runtime-{SPARK_VERSION}_2.12:{ICEBERG_VERSION},org.apache.spark:spark-avro_2.12:3.5.0')\\\n",
    "    .config('spark.sql.extensions','org.apache.iceberg.spark.extensions.IcebergSparkSessionExtensions')\\\n",
    "    .config(f'spark.sql.catalog.{CATALOG_NAME}','org.apache.iceberg.spark.SparkCatalog') \\\n",
    "    .config(f'spark.sql.catalog.{CATALOG_NAME}.type','hadoop') \\\n",
    "    .config(f'spark.sql.catalog.{CATALOG_NAME}.warehouse',DW_PATH) \\\n",
    "    .config('spark.sql.autoBroadcastJoinThreshold', '-1')\\\n",
    "    .enableHiveSupport()\\\n",
    "    .getOrCreate()"
   ]
  },
  {
   "cell_type": "markdown",
   "metadata": {},
   "source": [
    "## Preparing Data\n",
    "- `Customers` table: \n",
    "    - partitioned on:  `region`.\n",
    "    - primary key: `customer_id`.\n",
    "- `Orders` table:\n",
    "    - partitioned on `region`.\n",
    "    - primary key: `orders_id`\n",
    "    - foreign key for Customers: `customer_id`\n",
    "\n",
    "And some other random details."
   ]
  },
  {
   "cell_type": "code",
   "execution_count": null,
   "metadata": {},
   "outputs": [],
   "source": [
    "%pip install faker"
   ]
  },
  {
   "cell_type": "code",
   "execution_count": null,
   "metadata": {},
   "outputs": [],
   "source": [
    "from faker import Faker\n",
    "import random\n",
    "\n",
    "\n",
    "# Initialize Faker\n",
    "fake = Faker()\n",
    "Faker.seed(42)\n",
    "\n",
    "# Generate customer data\n",
    "def generate_customer_data(num_customers=1000):\n",
    "    regions = ['North', 'South', 'East', 'West']\n",
    "    \n",
    "    customers = []\n",
    "    for _ in range(num_customers):\n",
    "        signup_date = fake.date_time_between(start_date='-3y', end_date='now')\n",
    "        customers.append(Row(\n",
    "            customer_id=fake.unique.random_number(digits=6),\n",
    "            customer_name=fake.name(),\n",
    "            region=random.choice(regions),\n",
    "            signup_date=signup_date,\n",
    "            signup_year=signup_date.year  # Additional column for partition evolution\n",
    "        ))\n",
    "    \n",
    "    return spark.createDataFrame(customers)\n",
    "\n",
    "# Generate order data\n",
    "def generate_order_data(customer_df, num_orders=5000):\n",
    "    customers = [row.customer_id for row in customer_df.select('customer_id').collect()]\n",
    "    \n",
    "    orders = []\n",
    "    for _ in range(num_orders):\n",
    "        order_date = fake.date_time_between(start_date='-3y', end_date='now')\n",
    "        orders.append(Row(\n",
    "            order_id=fake.unique.random_number(digits=8),\n",
    "            customer_id=random.choice(customers),\n",
    "            order_date=order_date,\n",
    "            amount=round(random.uniform(10, 1000), 2),\n",
    "            region=random.choice(['North', 'South', 'East', 'West']),\n",
    "            order_year=order_date.year  # Additional column for partition evolution\n",
    "        ))\n",
    "    \n",
    "    return spark.createDataFrame(orders)\n",
    "\n",
    "# Generate the data\n",
    "print(\"Generating sample data...\")\n",
    "customer_df = generate_customer_data(1000)\n",
    "order_df = generate_order_data(customer_df, 50000)\n",
    "\n",
    "customer_df.show(5, truncate=False)\n",
    "order_df.show(5, truncate=False)\n",
    "\n"
   ]
  },
  {
   "cell_type": "code",
   "execution_count": null,
   "metadata": {},
   "outputs": [],
   "source": [
    "# DROPPING table if already exists -- in case it needs to rerun\n",
    "spark.sql(\"DROP TABLE IF EXISTS local.db.customers\")\n",
    "spark.sql(\"DROP TABLE IF EXISTS local.db.orders\")"
   ]
  },
  {
   "cell_type": "markdown",
   "metadata": {},
   "source": [
    "### Writing data to create `Customers` and `Orders` Iceberg Table"
   ]
  },
  {
   "cell_type": "code",
   "execution_count": null,
   "metadata": {},
   "outputs": [],
   "source": [
    "# Initially create Iceberg tables with region partitioning only\n",
    "print(\"\\nCreating initial Iceberg tables with region partitioning...\")\n",
    "customer_df.writeTo(\"local.db.customers\") \\\n",
    "    .tableProperty(\"format-version\", \"2\") \\\n",
    "    .partitionedBy(\"region\") \\\n",
    "    .create()\n",
    "\n",
    "order_df.writeTo(\"local.db.orders\") \\\n",
    "    .tableProperty(\"format-version\", \"2\") \\\n",
    "    .partitionedBy(\"region\") \\\n",
    "    .create()"
   ]
  },
  {
   "cell_type": "code",
   "execution_count": null,
   "metadata": {},
   "outputs": [],
   "source": [
    "# Show create table structure\n",
    "print(\"\\nCustomer Table Structure:\")\n",
    "spark.sql(\"show create TABLE local.db.customers\").show(truncate=False)\n",
    "\n",
    "print(\"\\nOrder Table Structure:\")\n",
    "spark.sql(\"show create TABLE local.db.orders\").show(truncate=False)"
   ]
  },
  {
   "cell_type": "markdown",
   "metadata": {},
   "source": [
    "# Storage Partitioned Join\n",
    "- Avoids any shuffle during Joins based on Storage layout and partition information shared by DS v2 sources like Iceberg Tables.\n",
    "\n",
    "### All SPJ configurations to handle all the cases:\n",
    "- Version mentioned at the EOL\n",
    "\n",
    "```python\n",
    "spark.conf.set('spark.sql.iceberg.planning.preserve-data-grouping','true') # Spark 3.3\n",
    "spark.conf.set('spark.sql.sources.v2.bucketing.enabled','true') # Spark 3.3\n",
    "spark.conf.set('spark.sql.sources.v2.bucketing.pushPartValues.enabled','true') # Spark 3.4\n",
    "spark.conf.set('spark.sql.requireAllClusterKeysForCoPartition','false') # Spark 3.4\n",
    "spark.conf.set('spark.sql.sources.v2.bucketing.partiallyClusteredDistribution.enabled','true') # Spark 3.4\n",
    "```"
   ]
  },
  {
   "cell_type": "code",
   "execution_count": null,
   "metadata": {},
   "outputs": [],
   "source": [
    "from pyspark.sql.functions import col\n",
    "\n",
    "CUSTOMERS_TABLE = f'{CATALOG_NAME}.db.customers'\n",
    "ORDERS_TABLE = f'{CATALOG_NAME}.db.orders'\n",
    "\n",
    "# Reading from table\n",
    "cust_df = spark.table(CUSTOMERS_TABLE)\n",
    "order_df = spark.table(ORDERS_TABLE)"
   ]
  },
  {
   "cell_type": "code",
   "execution_count": null,
   "metadata": {},
   "outputs": [],
   "source": [
    "# joining dataframes only on parititioned columns -- SPJ not enabled\n",
    "joined_df = cust_df.join(order_df, on=\"region\", how=\"left\")\n",
    "joined_df.explain(\"FORMATTED\")\n",
    "\n",
    "# Shows Exchange Node visible in the plan."
   ]
  },
  {
   "cell_type": "markdown",
   "metadata": {},
   "source": [
    "## Scenario 1: Join Keys same as Partition Keys"
   ]
  },
  {
   "cell_type": "code",
   "execution_count": null,
   "metadata": {},
   "outputs": [],
   "source": [
    "# Enabling minimal configuration for SPJ. executing the same join again\n",
    "spark.conf.set('spark.sql.sources.v2.bucketing.enabled','true')\n",
    "spark.conf.set('spark.sql.iceberg.planning.preserve-data-grouping','true')\n",
    "\n",
    "joined_df = cust_df.join(order_df, on=\"region\", how=\"left\")\n",
    "joined_df.explain(\"FORMATTED\")\n",
    "\n",
    "# No EXCHANGE Node in the plan"
   ]
  },
  {
   "cell_type": "markdown",
   "metadata": {},
   "source": [
    "## Scenario 2:  Partitions from both side doesn't match"
   ]
  },
  {
   "cell_type": "code",
   "execution_count": null,
   "metadata": {},
   "outputs": [],
   "source": [
    "# Dropping one partition data to create a missing value partition\n",
    "spark.sql(f\"DELETE FROM {ORDERS_TABLE} where region='West'\").show()"
   ]
  },
  {
   "cell_type": "code",
   "execution_count": null,
   "metadata": {},
   "outputs": [],
   "source": [
    "# Ensuring the West partition data is deleted\n",
    "order_df = spark.table(ORDERS_TABLE)\n",
    "order_df.groupBy(\"region\").count().show()"
   ]
  },
  {
   "cell_type": "code",
   "execution_count": null,
   "metadata": {},
   "outputs": [],
   "source": [
    "# Executing the join with non matching number of partitions\n",
    "joined_df = cust_df.join(order_df, on=['region'], how='left')\n",
    "joined_df.explain(\"FORMATTED\")\n",
    "\n",
    "# Exchange node is back..!!!!"
   ]
  },
  {
   "cell_type": "code",
   "execution_count": null,
   "metadata": {},
   "outputs": [],
   "source": [
    "# Executing the join with pushPartValues.enabled along with min configuration\n",
    "# spark.conf.set('spark.sql.sources.v2.bucketing.enabled','true')\n",
    "# spark.conf.set('spark.sql.iceberg.planning.preserve-data-grouping','true')\n",
    "\n",
    "spark.conf.set('spark.sql.sources.v2.bucketing.pushPartValues.enabled','true')\n",
    "joined_df = cust_df.join(order_df, on='region', how='left')\n",
    "joined_df.explain(\"FORMATTED\")\n",
    "\n",
    "# SPJ Works after enabling the pushPartValues -- No Exchange Node"
   ]
  },
  {
   "cell_type": "markdown",
   "metadata": {},
   "source": [
    "## Scenario 3: Join Keys do not match the Partition Keys\n",
    "- 3.1 : Join Keys are superset of Partition Keys\n",
    "- 3.2 : Join Keys are subset of Partition Keys"
   ]
  },
  {
   "cell_type": "markdown",
   "metadata": {},
   "source": [
    "### Scenario 3.1: Join Keys are superset of Partition Keys\n",
    "- Joining on `region` that is partition key and `customer_key` non-partition key."
   ]
  },
  {
   "cell_type": "code",
   "execution_count": null,
   "metadata": {},
   "outputs": [],
   "source": [
    "# Adding one more join column other than the partitioned column\n",
    "joined_df = cust_df.join(order_df, on=['region','customer_id'], how='left')\n",
    "joined_df.explain(\"FORMATTED\")\n",
    "\n",
    "# Exchange Node is back again !!"
   ]
  },
  {
   "cell_type": "code",
   "execution_count": null,
   "metadata": {},
   "outputs": [],
   "source": [
    "# Setting up another config to support SPJ for these cases\n",
    "spark.conf.set('spark.sql.requireAllClusterKeysForCoPartition','false')\n",
    "joined_df = cust_df.join(order_df, on=['region','customer_id'], how='left')\n",
    "joined_df.explain(\"FORMATTED\")\n",
    "\n",
    "# SPJ works after disabling the configuration."
   ]
  },
  {
   "cell_type": "markdown",
   "metadata": {},
   "source": [
    "### Scenario 3.2: Join Keys are subset of Partition Keys -- **SPJ DOESN'T work in `Spark < 4.0`**\n",
    "Only works if all the partition keys are part of join.\n",
    "\n",
    "- Different bucketing\n",
    "    - `Customers` partitioned by (region, bucket(2, customer_id))\n",
    "    - `Orders` partitioned by (region, bucket(4, customer_id))\n",
    "\n",
    "- Same bucketing\n",
    "    - `Customers` partitioned by (region, bucket(4, customer_id))\n",
    "    - `Orders` partitioned by (region, bucket(4, customer_id))\n",
    "\n",
    "- Hidden Partitions with same bucketing\n",
    "    - `Customers` partitioned by (region, year(signup_date), bucket(4, customer_id))\n",
    "    - `Orders` partitioned by (region, year(order_date), bucket(4, customer_id))"
   ]
  },
  {
   "cell_type": "code",
   "execution_count": 66,
   "metadata": {},
   "outputs": [
    {
     "data": {
      "text/plain": [
       "DataFrame[]"
      ]
     },
     "execution_count": 66,
     "metadata": {},
     "output_type": "execute_result"
    }
   ],
   "source": [
    "spark.sql(\"DROP TABLE IF EXISTS local.db.customers_buck\")\n",
    "spark.sql(\"DROP TABLE IF EXISTS local.db.orders_buck\")"
   ]
  },
  {
   "cell_type": "markdown",
   "metadata": {},
   "source": [
    "#### Hidden Partitioning with same bucketing"
   ]
  },
  {
   "cell_type": "code",
   "execution_count": null,
   "metadata": {},
   "outputs": [
    {
     "data": {
      "text/plain": [
       "DataFrame[]"
      ]
     },
     "execution_count": 67,
     "metadata": {},
     "output_type": "execute_result"
    }
   ],
   "source": [
    "# Customers Table with buckets\n",
    "spark.sql(f\"\"\"CREATE TABLE local.db.customers_buck (\n",
    "          customer_id BIGINT,\n",
    "          customer_name STRING,\n",
    "          region STRING,\n",
    "          signup_date TIMESTAMP\n",
    "          )\n",
    "          USING iceberg\n",
    "          PARTITIONED BY (region, year(signup_date), bucket(4, customer_id))\n",
    "          TBLPROPERTIES (\n",
    "            'format' = 'iceberg/parquet',\n",
    "            'format-version' = '2',\n",
    "            'write.parquet.compression-codec' = 'zstd'\n",
    "          )\n",
    "\"\"\")\n",
    "\n",
    "# Orders Table with buckets\n",
    "spark.sql(\"\"\"CREATE TABLE local.db.orders_buck (\n",
    "            order_id BIGINT,\n",
    "            customer_id BIGINT,\n",
    "            order_date TIMESTAMP,\n",
    "            amount DOUBLE,\n",
    "            region STRING\n",
    "          )\n",
    "          USING iceberg\n",
    "          PARTITIONED BY (region, year(order_date), bucket(4, customer_id))\n",
    "          TBLPROPERTIES (\n",
    "            'format' = 'iceberg/parquet',\n",
    "            'format-version' = '2',\n",
    "            'write.parquet.compression-codec' = 'zstd'\n",
    "          )\n",
    "\"\"\")"
   ]
  },
  {
   "cell_type": "code",
   "execution_count": 68,
   "metadata": {},
   "outputs": [
    {
     "name": "stdout",
     "output_type": "stream",
     "text": [
      "+-----------+-------------+------+-----------+\n",
      "|customer_id|customer_name|region|signup_date|\n",
      "+-----------+-------------+------+-----------+\n",
      "+-----------+-------------+------+-----------+\n",
      "\n"
     ]
    }
   ],
   "source": [
    "# Writing into table\n",
    "CUSTOMERS_BUCK_TABLE = 'local.db.customers_buck'\n",
    "ORDERS_BUCK_TABLE = 'local.db.orders_buck'\n",
    "# spark.sql(f\"desc table {CUSTOMERS_BUCK_TABLE}\").show(truncate=False)\n",
    "spark.table(CUSTOMERS_BUCK_TABLE).show(truncate=False)"
   ]
  },
  {
   "cell_type": "code",
   "execution_count": 69,
   "metadata": {},
   "outputs": [
    {
     "name": "stderr",
     "output_type": "stream",
     "text": [
      "24/11/27 18:23:12 WARN TaskSetManager: Stage 32 contains a task of very large size (4390 KiB). The maximum recommended task size is 1000 KiB.\n",
      "                                                                                \r"
     ]
    }
   ],
   "source": [
    "# Generating data and writing into table\n",
    "customer_df = generate_customer_data(10000)\n",
    "order_df = generate_order_data(customer_df, 500000)\n",
    "cust_col_order = spark.table(CUSTOMERS_BUCK_TABLE).columns\n",
    "customer_df.select(*cust_col_order).writeTo(CUSTOMERS_BUCK_TABLE).append()\n",
    "orders_col_order = spark.table(ORDERS_BUCK_TABLE).columns\n",
    "order_df.select(*orders_col_order).writeTo(ORDERS_BUCK_TABLE).append()"
   ]
  },
  {
   "cell_type": "code",
   "execution_count": 74,
   "metadata": {},
   "outputs": [],
   "source": [
    "# Setting all SPJ configs available in Spark 3.4.0\n",
    "spark.conf.set('spark.sql.sources.v2.bucketing.enabled','true')\n",
    "spark.conf.set('spark.sql.iceberg.planning.preserve-data-grouping','true')\n",
    "spark.conf.set('spark.sql.sources.v2.bucketing.pushPartValues.enabled','true')\n",
    "spark.conf.set('spark.sql.requireAllClusterKeysForCoPartition','false')\n",
    "spark.conf.set('spark.sql.sources.v2.bucketing.partiallyClusteredDistribution.enabled', 'true')"
   ]
  },
  {
   "cell_type": "code",
   "execution_count": null,
   "metadata": {},
   "outputs": [],
   "source": [
    "cust_buck_df = spark.table(CUSTOMERS_BUCK_TABLE)\n",
    "order_buck_df = spark.table(ORDERS_BUCK_TABLE)\n",
    "\n",
    "# SPJ works only when all the columns are present in join.\n",
    "cust_buck_df.alias(\"cust\").join(order_buck_df.alias(\"order\"), \n",
    "                                on=[col('signup_date') == col('order_date'),\n",
    "                                    col(\"cust.customer_id\") == col(\"order.customer_id\"),\n",
    "                                    col(\"cust.region\") == col(\"order.region\")\n",
    "                                    ], how='left').explain(\"FORMATTED\")\n",
    "\n",
    "# SPJ Works when all the columns are present in JOIN Condition"
   ]
  },
  {
   "cell_type": "code",
   "execution_count": null,
   "metadata": {},
   "outputs": [],
   "source": [
    "# Setting all SPJ configs available in Spark 3.4.0\n",
    "spark.conf.set('spark.sql.sources.v2.bucketing.enabled','true')\n",
    "spark.conf.set('spark.sql.iceberg.planning.preserve-data-grouping','true')\n",
    "spark.conf.set('spark.sql.sources.v2.bucketing.pushPartValues.enabled','true')\n",
    "spark.conf.set('spark.sql.requireAllClusterKeysForCoPartition','false')\n",
    "spark.conf.set('spark.sql.sources.v2.bucketing.partiallyClusteredDistribution.enabled', 'true')\n",
    "\n",
    "cust_buck_df.join(order_buck_df, on=['region', 'customer_id'], how='left').explain(\"FORMATTED\")\n",
    "\n",
    "# SPJ DOESN'T work if all the columns are not in join condition for Spark < 4.0\n",
    "# Exchange Nodes present in plan"
   ]
  },
  {
   "cell_type": "markdown",
   "metadata": {},
   "source": [
    "#### Different bucketing\n",
    "- Creating 2 tables:\n",
    "    - `Customers` partitioned by (region, bucket(2, customer_id))\n",
    "    - `Orders` partitioned by (region, bucket(4, customer_id))"
   ]
  },
  {
   "cell_type": "code",
   "execution_count": null,
   "metadata": {},
   "outputs": [],
   "source": [
    "spark.sql(\"DROP TABLE IF EXISTS local.db.customers_buck\")\n",
    "spark.sql(\"DROP TABLE IF EXISTS local.db.orders_buck\")"
   ]
  },
  {
   "cell_type": "code",
   "execution_count": null,
   "metadata": {},
   "outputs": [
    {
     "data": {
      "text/plain": [
       "DataFrame[]"
      ]
     },
     "execution_count": 25,
     "metadata": {},
     "output_type": "execute_result"
    }
   ],
   "source": [
    "# Customers Table with buckets\n",
    "spark.sql(f\"\"\"CREATE TABLE local.db.customers_buck (\n",
    "          customer_id BIGINT,\n",
    "          customer_name STRING,\n",
    "          region STRING,\n",
    "          signup_date TIMESTAMP,\n",
    "          signup_year BIGINT\n",
    "          )\n",
    "          USING iceberg\n",
    "          PARTITIONED BY (region, bucket(2, customer_id))\n",
    "          TBLPROPERTIES (\n",
    "            'format' = 'iceberg/parquet',\n",
    "            'format-version' = '2',\n",
    "            'write.parquet.compression-codec' = 'zstd'\n",
    "          )\n",
    "\"\"\")\n",
    "\n",
    "# Orders Table with buckets\n",
    "spark.sql(\"\"\"CREATE TABLE local.db.orders_buck (\n",
    "            order_id BIGINT,\n",
    "            customer_id BIGINT,\n",
    "            order_date TIMESTAMP,\n",
    "            amount DOUBLE,\n",
    "            region STRING,\n",
    "            order_year BIGINT)\n",
    "          USING iceberg\n",
    "          PARTITIONED BY (region, bucket(4, customer_id))\n",
    "          TBLPROPERTIES (\n",
    "            'format' = 'iceberg/parquet',\n",
    "            'format-version' = '2',\n",
    "            'write.parquet.compression-codec' = 'zstd'\n",
    "          )\n",
    "\"\"\")"
   ]
  },
  {
   "cell_type": "code",
   "execution_count": null,
   "metadata": {},
   "outputs": [],
   "source": [
    "# Generating data and writing into table\n",
    "customer_df = generate_customer_data(10000)\n",
    "order_df = generate_order_data(customer_df, 500000)\n",
    "\n",
    "# Writing into table\n",
    "CUSTOMERS_BUCK_TABLE = 'local.db.customers_buck'\n",
    "ORDERS_BUCK_TABLE = 'local.db.orders_buck'\n",
    "cust_col_order = spark.table(CUSTOMERS_BUCK_TABLE).columns\n",
    "customer_df.select(*cust_col_order).writeTo(CUSTOMERS_BUCK_TABLE).append()\n",
    "orders_col_order = spark.table(ORDERS_BUCK_TABLE).columns\n",
    "order_df.select(*orders_col_order).writeTo(ORDERS_BUCK_TABLE).append()"
   ]
  },
  {
   "cell_type": "code",
   "execution_count": null,
   "metadata": {},
   "outputs": [],
   "source": [
    "# Reading from table\n",
    "cust_buck_df = spark.table(CUSTOMERS_BUCK_TABLE)\n",
    "order_buck_df = spark.table(ORDERS_BUCK_TABLE)"
   ]
  },
  {
   "cell_type": "code",
   "execution_count": null,
   "metadata": {},
   "outputs": [],
   "source": [
    "# Setting all SPJ configs available in Spark 3.4.0\n",
    "spark.conf.set('spark.sql.sources.v2.bucketing.enabled','true')\n",
    "spark.conf.set('spark.sql.iceberg.planning.preserve-data-grouping','true')\n",
    "spark.conf.set('spark.sql.sources.v2.bucketing.pushPartValues.enabled','true')\n",
    "spark.conf.set('spark.sql.requireAllClusterKeysForCoPartition','false')\n",
    "spark.conf.set('spark.sql.sources.v2.bucketing.partiallyClusteredDistribution.enabled', 'true')\n",
    "\n",
    "joined_buck_df = cust_buck_df.join(order_buck_df, on=['region', 'customer_id'], how='left')\n",
    "joined_buck_df.explain(\"FORMATTED\")\n",
    "\n",
    "### Doesn't work -- Exchange nodes are still present. -- Needs to be retested with Spark 4.0\n",
    "# Spark 4.0 provides an additional config specifically for this: \n",
    "# spark.conf.set('spark.sql.sources.v2.bucketing.allowJoinKeysSubsetOfPartitionKeys.enabled', 'true')"
   ]
  }
 ],
 "metadata": {
  "kernelspec": {
   "display_name": ".env",
   "language": "python",
   "name": "python3"
  },
  "language_info": {
   "codemirror_mode": {
    "name": "ipython",
    "version": 3
   },
   "file_extension": ".py",
   "mimetype": "text/x-python",
   "name": "python",
   "nbconvert_exporter": "python",
   "pygments_lexer": "ipython3",
   "version": "3.9.6"
  }
 },
 "nbformat": 4,
 "nbformat_minor": 2
}
